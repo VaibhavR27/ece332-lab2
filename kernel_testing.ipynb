{
 "cells": [
  {
   "cell_type": "markdown",
   "id": "f2a68cbd-2ea6-4624-83ee-1d8a8e5b3f16",
   "metadata": {},
   "source": [
    "Testing OpenCL (.cl) kernels by loading them into Python within a Jupyter notebook and using pyOpenCL module"
   ]
  },
  {
   "cell_type": "markdown",
   "id": "0b62afdd-19c1-4b58-a6ca-2f86dc4c1701",
   "metadata": {},
   "source": [
    "1. Load .cl File: Read the OpenCL kernel from a .cl file into a Python string using file I/O operations.\n",
    "\n",
    "2. Initialize OpenCL: Use pyopencl to select an OpenCL platform and device, creating a context and command queue.\n",
    "\n",
    "3. Compile Kernel: Compile the kernel code within the notebook environment, addressing any compilation issues.\n",
    "\n",
    "4. Prepare Data: Allocate memory for input and output data on the device using OpenCL buffers and transfer input data to the device.\n",
    "\n",
    "5. Execute Kernel: Enqueue the kernel for execution, specifying the number of work items and groups, and wait for completion.\n",
    "\n",
    "6. Read Results: Retrieve output data from the device to the host and analyze for correctness.\n",
    "\n",
    "7. Cleanup: Release OpenCL resources like buffers and context."
   ]
  },
  {
   "cell_type": "markdown",
   "id": "94f6e65f-ea7f-483c-b4c3-9f1d5513d40e",
   "metadata": {},
   "source": [
    "Install required pyopencl kernel"
   ]
  },
  {
   "cell_type": "code",
   "execution_count": 5,
   "id": "8d5c66c6-cb5d-4948-9371-a9580fa658c0",
   "metadata": {},
   "outputs": [
    {
     "name": "stdout",
     "output_type": "stream",
     "text": [
      "Requirement already satisfied: pyopencl in c:\\users\\wesley\\appdata\\local\\programs\\python\\python310\\lib\\site-packages (2025.1)\n",
      "Requirement already satisfied: numpy in c:\\users\\wesley\\appdata\\local\\programs\\python\\python310\\lib\\site-packages (from pyopencl) (1.22.3)\n",
      "Requirement already satisfied: platformdirs>=2.2 in c:\\users\\wesley\\appdata\\local\\programs\\python\\python310\\lib\\site-packages (from pyopencl) (4.3.7)\n",
      "Requirement already satisfied: pytools>=2024.1.5 in c:\\users\\wesley\\appdata\\local\\programs\\python\\python310\\lib\\site-packages (from pyopencl) (2025.1.2)\n",
      "Requirement already satisfied: typing-extensions>=4.5 in c:\\users\\wesley\\appdata\\local\\programs\\python\\python310\\lib\\site-packages (from pytools>=2024.1.5->pyopencl) (4.13.2)\n"
     ]
    }
   ],
   "source": [
    "!pip install pyopencl"
   ]
  },
  {
   "cell_type": "markdown",
   "id": "bd8a9f00-e9c3-4562-bb51-564ae5bdd757",
   "metadata": {},
   "source": [
    "Test environment by printing the environment\n",
    "\n",
    "Example output:\n",
    "\n",
    "Number of platforms                      2\n",
    "Platform Name                            Intel(R) OpenCL HD Graphics\n",
    "Platform Vendor                          Intel(R) Corporation\n",
    "Platform Version                         OpenCL 2.1"
   ]
  },
  {
   "cell_type": "code",
   "execution_count": 8,
   "id": "7ca06663-c210-4041-ad4f-d9f2be7c0e93",
   "metadata": {},
   "outputs": [
    {
     "name": "stderr",
     "output_type": "stream",
     "text": [
      "'clinfo' is not recognized as an internal or external command,\n",
      "operable program or batch file.\n"
     ]
    }
   ],
   "source": [
    "!clinfo"
   ]
  },
  {
   "cell_type": "markdown",
   "id": "042f8051-ddaf-407b-859a-8621f6b135d4",
   "metadata": {},
   "source": [
    "Import python modules"
   ]
  },
  {
   "cell_type": "code",
   "execution_count": 9,
   "id": "81f44273-c7d8-4978-9c26-506478e1af61",
   "metadata": {},
   "outputs": [],
   "source": [
    "import pyopencl as cl\n",
    "import numpy as np"
   ]
  },
  {
   "cell_type": "markdown",
   "id": "1136d92a-71a2-4b36-baad-15e92f4affb7",
   "metadata": {},
   "source": [
    "Initialize OpenCL: Use pyopencl to select an OpenCL platform and device\n",
    "\n",
    "Example output:\n",
    "\n",
    "[<pyopencl.Device 'Intel(R) Gen9 HD Graphics NEO' on 'Intel(R) OpenCL HD Graphics'"
   ]
  },
  {
   "cell_type": "code",
   "execution_count": 10,
   "id": "6ef76cc3-d629-4602-a658-8dbd3a747b41",
   "metadata": {},
   "outputs": [
    {
     "data": {
      "text/plain": [
       "[<pyopencl.Device 'Intel(R) Iris(R) Xe Graphics' on 'Intel(R) OpenCL HD Graphics' at 0x27237960040>]"
      ]
     },
     "execution_count": 10,
     "metadata": {},
     "output_type": "execute_result"
    }
   ],
   "source": [
    "platforms = cl.get_platforms()\n",
    "cpu_devices = [device for device in platforms[0].get_devices(device_type=cl.device_type.GPU)]\n",
    "cpu_devices"
   ]
  },
  {
   "cell_type": "markdown",
   "id": "162b0ad2-f4a2-4481-a189-f33aeafb2644",
   "metadata": {},
   "source": [
    "Creating a context and command queue"
   ]
  },
  {
   "cell_type": "code",
   "execution_count": 11,
   "id": "08a0cc4e-e78e-4a1c-a20f-113114c0826e",
   "metadata": {},
   "outputs": [],
   "source": [
    "context = cl.Context(devices=cpu_devices)\n",
    "\n",
    "# Create a command queue for the target device\n",
    "queue = cl.CommandQueue(context)"
   ]
  },
  {
   "cell_type": "markdown",
   "id": "1533b061-b0fa-445c-ba41-18098cf424e4",
   "metadata": {},
   "source": [
    "Load .cl File: Read the OpenCL kernel from a .cl file into a Python string using file I/O operations"
   ]
  },
  {
   "cell_type": "code",
   "execution_count": 13,
   "id": "008d25f9-37f3-4f03-b37c-f4c69ffe0552",
   "metadata": {},
   "outputs": [],
   "source": [
    "file_name = \"matrix_mul.cl\"  # Replace with the name of your uploaded .cl file\n",
    "with open(file_name, 'r') as file:\n",
    "    kernel_code = file.read()"
   ]
  },
  {
   "cell_type": "markdown",
   "id": "5efe78ff-5cd2-443e-b101-1c488e7245b1",
   "metadata": {},
   "source": [
    "Compile Kernel: Compile the kernel code"
   ]
  },
  {
   "cell_type": "code",
   "execution_count": 14,
   "id": "8434a4d1-bc87-44d9-8972-49e737cbe3a6",
   "metadata": {},
   "outputs": [],
   "source": [
    "program = cl.Program(context, kernel_code).build()"
   ]
  },
  {
   "cell_type": "markdown",
   "id": "73f212c3-8f58-48b6-be47-d7b060c3d191",
   "metadata": {},
   "source": [
    "Initialize inputs to test (test for random inputs) and output to zeros"
   ]
  },
  {
   "cell_type": "code",
   "execution_count": 15,
   "id": "52832c4f-fa6b-4067-95c2-06ecc0a035f4",
   "metadata": {},
   "outputs": [],
   "source": [
    "input_tile_size = 16\n",
    "output_neurons_tile_size = 10\n",
    "\n",
    "# Initialize random data for the input tile and weights\n",
    "input_tile = np.random.rand(input_tile_size).astype(np.float32)\n",
    "weights_tile = np.random.rand(input_tile_size * output_neurons_tile_size).astype(np.float32)\n",
    "\n",
    "output_tile = np.zeros(output_neurons_tile_size).astype(np.float32)"
   ]
  },
  {
   "cell_type": "code",
   "execution_count": 20,
   "id": "3649e852-9fb6-4229-9e48-64511e0acbeb",
   "metadata": {},
   "outputs": [
    {
     "name": "stdout",
     "output_type": "stream",
     "text": [
      "[4.49128   4.4848228 4.713296  4.014911  3.6185555 4.6335297 4.253991\n",
      " 3.609977  4.97384   4.961496 ]\n"
     ]
    }
   ],
   "source": [
    "# Create memory buffers\n",
    "input_tile_buf = cl.Buffer(context, cl.mem_flags.READ_ONLY | cl.mem_flags.COPY_HOST_PTR, hostbuf=input_tile)\n",
    "weights_tile_buf = cl.Buffer(context, cl.mem_flags.READ_ONLY | cl.mem_flags.COPY_HOST_PTR, hostbuf=weights_tile)\n",
    "output_tile_buf = cl.Buffer(context, cl.mem_flags.WRITE_ONLY, output_tile.nbytes)\n",
    "\n",
    "# Build the kernel\n",
    "program = cl.Program(context, kernel_code).build()\n",
    "\n",
    "# Execute the kernel\n",
    "global_size = (output_tile.size,)\n",
    "local_size = None\n",
    "program.matrixMul(queue, global_size, local_size,\n",
    "               input_tile_buf, weights_tile_buf,\n",
    "               np.int32(input_tile_size), np.int32(output_neurons_tile_size),\n",
    "               output_tile_buf)\n",
    "\n",
    "# Read the output buffer back to the host\n",
    "cl.enqueue_copy(queue, output_tile, output_tile_buf)\n",
    "\n",
    "# Output the results\n",
    "print(output_tile)"
   ]
  },
  {
   "cell_type": "code",
   "execution_count": 21,
   "id": "d0f77b1b-7c6a-4c54-9cc5-0bd2e9a9d3f4",
   "metadata": {},
   "outputs": [],
   "source": [
    "def matrix_vector_multiply(input_tile, weights_tile, input_tile_size, output_neurons_tile_size):\n",
    "    # Reshape weights_tile to be a 2D array for matrix multiplication\n",
    "    weights_matrix = weights_tile.reshape((output_neurons_tile_size, input_tile_size))\n",
    "\n",
    "    # Perform matrix-vector multiplication\n",
    "    output_tile = np.dot(weights_matrix, input_tile)\n",
    "\n",
    "    return output_tile"
   ]
  },
  {
   "cell_type": "code",
   "execution_count": 22,
   "id": "ccde5510-2f57-436d-a078-918be138c1fb",
   "metadata": {},
   "outputs": [],
   "source": [
    "test_output = matrix_vector_multiply(input_tile, weights_tile, input_tile_size, output_neurons_tile_size)"
   ]
  },
  {
   "cell_type": "code",
   "execution_count": 23,
   "id": "fa1c3183-ff20-4c60-a267-d0f8bdbe9d0b",
   "metadata": {},
   "outputs": [
    {
     "data": {
      "text/plain": [
       "array([4.4912806, 4.484823 , 4.7132964, 4.014911 , 3.6185555, 4.633529 ,\n",
       "       4.2539916, 3.6099768, 4.9738398, 4.961496 ], dtype=float32)"
      ]
     },
     "execution_count": 23,
     "metadata": {},
     "output_type": "execute_result"
    }
   ],
   "source": [
    "test_output"
   ]
  }
 ],
 "metadata": {
  "kernelspec": {
   "display_name": "Python 3",
   "language": "python",
   "name": "python3"
  },
  "language_info": {
   "codemirror_mode": {
    "name": "ipython",
    "version": 3
   },
   "file_extension": ".py",
   "mimetype": "text/x-python",
   "name": "python",
   "nbconvert_exporter": "python",
   "pygments_lexer": "ipython3",
   "version": "3.10.2"
  }
 },
 "nbformat": 4,
 "nbformat_minor": 5
}
